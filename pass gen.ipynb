{
 "cells": [
  {
   "cell_type": "code",
   "execution_count": 1,
   "metadata": {},
   "outputs": [],
   "source": [
    "import random,string\n",
    "class pwd:\n",
    "\n",
    "    def __init__(self):\n",
    "        self.pas_len = int(input(\"How long should the password be? \"))\n",
    "        \n",
    "    def allcomb(self):\n",
    "        pas_char1 = string.ascii_letters + string.digits + string.punctuation\n",
    "        pas1 = []\n",
    "        for x in range(self.pas_len):\n",
    "            pas1.append(random.choice(pas_char1))\n",
    "        print(\"The password generated is \",''.join(pas1))\n",
    "    def letters_only(self):\n",
    "        pas_char2 = string.ascii_letters \n",
    "        pas2=[]\n",
    "        for x in range(self.pas_len):\n",
    "            pas2.append(random.choice(pas_char2))\n",
    "        print(\"The password generated is \",''.join(pas2))\n",
    "    def letters_numbers(self):\n",
    "        pas_char3 = string.ascii_letters + string.digits\n",
    "        pas3=[]\n",
    "        for x in range(self.pas_len):\n",
    "            pas3.append(random.choice(pas_char3))\n",
    "        print(\"The password generated is \",''.join(pas3))\n",
    "\n"
   ]
  },
  {
   "cell_type": "code",
   "execution_count": null,
   "metadata": {},
   "outputs": [
    {
     "name": "stdout",
     "output_type": "stream",
     "text": [
      "How long should the password be? 4\n",
      "\n",
      "    WELCOME TO RANDOM PASSWORD GENERATOR\n",
      "    1)Generate a random password of the given length\n",
      "    2)Exit the program\n",
      "    \n",
      "What would you like to do? 1\n",
      "\n",
      "            1.Letters, Numbers and Special characters\n",
      "            2.Letters and Numbers\n",
      "            3.Letters only\n",
      "            \n",
      "What combination of password you want to generate? 3\n",
      "The password generated is  gJBu\n",
      "\n",
      "    WELCOME TO RANDOM PASSWORD GENERATOR\n",
      "    1)Generate a random password of the given length\n",
      "    2)Exit the program\n",
      "    \n"
     ]
    }
   ],
   "source": [
    "test = pwd()\n",
    "check = True\n",
    "while check:\n",
    "    print (\"\"\"\n",
    "    WELCOME TO RANDOM PASSWORD GENERATOR\n",
    "    1)Generate a random password of the given length\n",
    "    2)Exit the program\n",
    "    \"\"\")\n",
    "    check = int(input(\"What would you like to do? \")) \n",
    "    if check == 1:\n",
    "        check2 = True\n",
    "        while check2:\n",
    "            print(\"\"\"\n",
    "            1.Letters, Numbers and Special characters\n",
    "            2.Letters and Numbers\n",
    "            3.Letters only\n",
    "            \"\"\")\n",
    "            check2 = int(input(\"What combination of password you want to generate? \"))\n",
    "            if check2 ==1:\n",
    "                test.allcomb()\n",
    "                break\n",
    "            elif check2 ==2:\n",
    "                test.letters_numbers()\n",
    "                break\n",
    "            elif check2 ==3:\n",
    "                test.letters_only()\n",
    "                break\n",
    "            else:\n",
    "                print(\"Invalid Input\")\n",
    "                break\n",
    "    elif check ==2:\n",
    "        break\n",
    "    else:\n",
    "        print(\"Invalid input\")\n",
    "            "
   ]
  },
  {
   "cell_type": "code",
   "execution_count": null,
   "metadata": {},
   "outputs": [],
   "source": []
  }
 ],
 "metadata": {
  "kernelspec": {
   "display_name": "Python 3",
   "language": "python",
   "name": "python3"
  },
  "language_info": {
   "codemirror_mode": {
    "name": "ipython",
    "version": 3
   },
   "file_extension": ".py",
   "mimetype": "text/x-python",
   "name": "python",
   "nbconvert_exporter": "python",
   "pygments_lexer": "ipython3",
   "version": "3.8.5"
  }
 },
 "nbformat": 4,
 "nbformat_minor": 4
}
